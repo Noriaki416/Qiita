{
 "cells": [
  {
   "cell_type": "markdown",
   "metadata": {},
   "source": [
    "# 【Quantum Native Dojo】QulacsでVQEを実装してみた【5-1】\n",
    "元の解説ページ：https://dojo.qulacs.org/ja/latest/notebooks/5.1_variational_quantum_eigensolver.html"
   ]
  },
  {
   "cell_type": "markdown",
   "metadata": {},
   "source": [
    "## モジュールのインポート"
   ]
  },
  {
   "cell_type": "code",
   "execution_count": 1,
   "metadata": {},
   "outputs": [],
   "source": [
    "from qulacs import Observable\n",
    "from qulacs import QuantumState, QuantumCircuit\n",
    "from qulacs.gate import RX, RZ, CNOT\n",
    "from scipy.optimize import minimize\n",
    "import numpy as np\n",
    "import matplotlib.pyplot as plt\n",
    "%matplotlib inline"
   ]
  },
  {
   "cell_type": "markdown",
   "metadata": {},
   "source": [
    "## 変分回路の作成"
   ]
  },
  {
   "cell_type": "code",
   "execution_count": 2,
   "metadata": {},
   "outputs": [],
   "source": [
    "def make_ansatz_circuit(phi, n_bits):\n",
    "    circuit = QuantumCircuit(n_bits)\n",
    "    circuit.add_gate(RX(0, phi[0]))\n",
    "    circuit.add_gate(RZ(0, phi[1]))\n",
    "    circuit.add_gate(RX(1, phi[2]))\n",
    "    circuit.add_gate(RZ(1, phi[3]))\n",
    "    circuit.add_gate(CNOT(0, 1))\n",
    "    circuit.add_gate(RX(1, phi[4]))\n",
    "    circuit.add_gate(RZ(1, phi[5]))\n",
    "    return circuit"
   ]
  },
  {
   "cell_type": "markdown",
   "metadata": {},
   "source": [
    "## ハミルトニアンの作成"
   ]
  },
  {
   "cell_type": "code",
   "execution_count": 3,
   "metadata": {},
   "outputs": [],
   "source": [
    "hamiltonian = [(-3.8505/2, \"\"),  \\\n",
    "               (-0.2288/2, \"X 1\"), \\\n",
    "               (-1.0466/2, \"Z 1\"),\\\n",
    "               (-0.2288/2, \"X 0\"), \\\n",
    "               (0.2613/2,  \"X 0 X 1\"), \\\n",
    "               (0.2288/2,  \"X 0 Z 1\"), \\\n",
    "               (-1.0466/2,  \"Z 0\"), \\\n",
    "               (0.2288/2,  \"Z 0 X 1\"), \\\n",
    "               (0.2356/2,  \"Z 0 Z 1\")]"
   ]
  },
  {
   "cell_type": "code",
   "execution_count": 4,
   "metadata": {},
   "outputs": [],
   "source": [
    "n_bits = 2\n",
    "observable = Observable(n_bits)\n",
    "for (coef, Pauli_string) in  hamiltonian :\n",
    "    observable.add_operator(coef, Pauli_string)"
   ]
  },
  {
   "cell_type": "markdown",
   "metadata": {},
   "source": [
    "## コスト関数の作成"
   ]
  },
  {
   "cell_type": "code",
   "execution_count": 5,
   "metadata": {},
   "outputs": [],
   "source": [
    "def cost(phi):\n",
    "    state = QuantumState(n_bits)\n",
    "    state.set_zero_state()\n",
    "    circuit = make_ansatz_circuit(phi, n_bits)\n",
    "    circuit.update_quantum_state(state)\n",
    "    return observable.get_expectation_value(state)\n",
    "\n",
    "def callback(phi):\n",
    "    global cost_val\n",
    "    cost_val.append(cost(phi))"
   ]
  },
  {
   "cell_type": "markdown",
   "metadata": {},
   "source": [
    "## 最適化\n",
    "同じ計算を100回行いその平均値を出力しています。  \n",
    "グラフは最後のiterationの結果だけを表示しています。"
   ]
  },
  {
   "cell_type": "code",
   "execution_count": 6,
   "metadata": {},
   "outputs": [
    {
     "data": {
      "image/png": "[encoded data removed]",
      "text/plain": [
       "<Figure size 432x288 with 1 Axes>"
      ]
     },
     "metadata": {
      "needs_background": "light"
     },
     "output_type": "display_data"
    },
    {
     "name": "stdout",
     "output_type": "stream",
     "text": [
      "Exact Energy:  -2.8626207640766816\n",
      "VQE Energy: -2.8624166416549484\n"
     ]
    }
   ],
   "source": [
    "n_params = 6\n",
    "np.random.seed(1111)\n",
    "n_iter = 100\n",
    "energy_list = []\n",
    "for _ in range(n_iter):  \n",
    "    cost_val = []\n",
    "    phi = np.random.random(n_params)\n",
    "    callback(phi)\n",
    "    res = minimize(cost, phi, method='Powell', callback=callback)\n",
    "    energy_list.append(cost(res.x))\n",
    "\n",
    "plt.plot(cost_val)\n",
    "plt.xlabel(\"iteration\")\n",
    "plt.ylabel(\"energy expectation value\")\n",
    "plt.show()\n",
    "\n",
    "print(\"Exact Energy: \", -2.8626207640766816)\n",
    "print(\"VQE Energy: {}\".format(np.mean(energy_list)))"
   ]
  },
  {
   "cell_type": "markdown",
   "metadata": {},
   "source": [
    "# 計算結果にノイズが入った場合"
   ]
  },
  {
   "cell_type": "code",
   "execution_count": 7,
   "metadata": {},
   "outputs": [],
   "source": [
    "def cost_noise(phi):\n",
    "    state = QuantumState(n_bits)\n",
    "    state.set_zero_state()\n",
    "    circuit = make_ansatz_circuit(phi, n_bits)\n",
    "    circuit.update_quantum_state(state)\n",
    "    return observable.get_expectation_value(state) + np.random.normal(0, 0.01)\n",
    "\n",
    "def callback_noise(phi):\n",
    "    global cost_val\n",
    "    cost_val.append(cost_noise(phi))"
   ]
  },
  {
   "cell_type": "code",
   "execution_count": 8,
   "metadata": {},
   "outputs": [
    {
     "data": {
      "image/png": "[encoded data removed]",
      "text/plain": [
       "<Figure size 432x288 with 1 Axes>"
      ]
     },
     "metadata": {
      "needs_background": "light"
     },
     "output_type": "display_data"
    },
    {
     "name": "stdout",
     "output_type": "stream",
     "text": [
      "Exact Energy:  -2.8626207640766816\n",
      "VQE Energy: -2.850086422671339\n"
     ]
    }
   ],
   "source": [
    "n_params = 6\n",
    "np.random.seed(1111)\n",
    "n_iter = 100\n",
    "energy_list = []\n",
    "for _ in range(n_iter):  \n",
    "    cost_val = []\n",
    "    phi = np.random.random(n_params)\n",
    "    callback_noise(phi)\n",
    "    res = minimize(cost_noise, phi, method='Powell', callback=callback_noise)\n",
    "    energy_list.append(cost_noise(res.x))\n",
    "\n",
    "plt.plot(cost_val)\n",
    "plt.xlabel(\"iteration\")\n",
    "plt.ylabel(\"energy expectation value\")\n",
    "plt.show()\n",
    "\n",
    "print(\"Exact Energy: \", -2.8626207640766816)\n",
    "print(\"VQE Energy: {}\".format(np.mean(energy_list)))"
   ]
  },
  {
   "cell_type": "markdown",
   "metadata": {},
   "source": [
    "# 回路のパラメータを増やした場合"
   ]
  },
  {
   "cell_type": "code",
   "execution_count": 9,
   "metadata": {},
   "outputs": [],
   "source": [
    "def make_ansatz_circuit(phi, n_bits):\n",
    "    circuit = QuantumCircuit(n_bits)\n",
    "    circuit.add_gate(RX(0, phi[0]))\n",
    "    circuit.add_gate(RZ(0, phi[1]))\n",
    "    circuit.add_gate(RX(1, phi[2]))\n",
    "    circuit.add_gate(RZ(1, phi[3]))\n",
    "    circuit.add_gate(CNOT(0, 1))\n",
    "    circuit.add_gate(RX(1, phi[4]))\n",
    "    circuit.add_gate(RZ(1, phi[5]))\n",
    "    circuit.add_gate(RX(0, phi[6]))\n",
    "    circuit.add_gate(RZ(0, phi[7]))\n",
    "    circuit.add_gate(CNOT(0, 1))\n",
    "    return circuit"
   ]
  },
  {
   "cell_type": "markdown",
   "metadata": {},
   "source": [
    "## ノイズなし"
   ]
  },
  {
   "cell_type": "code",
   "execution_count": 10,
   "metadata": {},
   "outputs": [
    {
     "data": {
      "image/png": "[encoded data removed]",
      "text/plain": [
       "<Figure size 432x288 with 1 Axes>"
      ]
     },
     "metadata": {
      "needs_background": "light"
     },
     "output_type": "display_data"
    },
    {
     "name": "stdout",
     "output_type": "stream",
     "text": [
      "Exact Energy:  -2.8626207640766816\n",
      "VQE Energy: -2.8626194809589203\n"
     ]
    }
   ],
   "source": [
    "n_params = 8\n",
    "np.random.seed(1111)\n",
    "n_iter = 100\n",
    "energy_list = []\n",
    "for _ in range(n_iter):  \n",
    "    cost_val = []\n",
    "    phi = np.random.random(n_params)\n",
    "    callback(phi)\n",
    "    res = minimize(cost, phi, method='Powell', callback=callback)\n",
    "    energy_list.append(cost(res.x))\n",
    "\n",
    "plt.plot(cost_val)\n",
    "plt.xlabel(\"iteration\")\n",
    "plt.ylabel(\"energy expectation value\")\n",
    "plt.show()\n",
    "\n",
    "print(\"Exact Energy: \", -2.8626207640766816)\n",
    "print(\"VQE Energy: {}\".format(np.mean(energy_list)))"
   ]
  },
  {
   "cell_type": "markdown",
   "metadata": {},
   "source": [
    "## ノイズあり"
   ]
  },
  {
   "cell_type": "code",
   "execution_count": 11,
   "metadata": {},
   "outputs": [
    {
     "data": {
      "image/png": "[encoded data removed]",
      "text/plain": [
       "<Figure size 432x288 with 1 Axes>"
      ]
     },
     "metadata": {
      "needs_background": "light"
     },
     "output_type": "display_data"
    },
    {
     "name": "stdout",
     "output_type": "stream",
     "text": [
      "Exact Energy:  -2.8626207640766816\n",
      "VQE Energy: -2.8457532192348656\n"
     ]
    }
   ],
   "source": [
    "n_params = 8\n",
    "np.random.seed(1111)\n",
    "n_iter = 100\n",
    "energy_list = []\n",
    "for _ in range(n_iter):  \n",
    "    cost_val = []\n",
    "    phi = np.random.random(n_params)\n",
    "    callback_noise(phi)\n",
    "    res = minimize(cost_noise, phi, method='Powell', callback=callback_noise)\n",
    "    energy_list.append(cost_noise(res.x))\n",
    "\n",
    "plt.plot(cost_val)\n",
    "plt.xlabel(\"iteration\")\n",
    "plt.ylabel(\"energy expectation value\")\n",
    "plt.show()\n",
    "\n",
    "print(\"Exact Energy: \", -2.8626207640766816)\n",
    "print(\"VQE Energy: {}\".format(np.mean(energy_list)))"
   ]
  },
  {
   "cell_type": "markdown",
   "metadata": {},
   "source": [
    "## CNOTゲートなし、ノイズなし"
   ]
  },
  {
   "cell_type": "code",
   "execution_count": 12,
   "metadata": {},
   "outputs": [],
   "source": [
    "def make_ansatz_circuit(phi, n_bits):\n",
    "    circuit = QuantumCircuit(n_bits)\n",
    "    circuit.add_gate(RX(0, phi[0]))\n",
    "    circuit.add_gate(RZ(0, phi[1]))\n",
    "    circuit.add_gate(RX(1, phi[2]))\n",
    "    circuit.add_gate(RZ(1, phi[3]))\n",
    "    circuit.add_gate(RX(1, phi[4]))\n",
    "    circuit.add_gate(RZ(1, phi[5]))\n",
    "    return circuit"
   ]
  },
  {
   "cell_type": "code",
   "execution_count": 13,
   "metadata": {},
   "outputs": [
    {
     "data": {
      "image/png": "[encoded data removed]",
      "text/plain": [
       "<Figure size 432x288 with 1 Axes>"
      ]
     },
     "metadata": {
      "needs_background": "light"
     },
     "output_type": "display_data"
    },
    {
     "name": "stdout",
     "output_type": "stream",
     "text": [
      "Exact Energy:  -2.8626207640766816\n",
      "VQE Energy: -2.85404959554127\n"
     ]
    }
   ],
   "source": [
    "n_params = 6\n",
    "np.random.seed(1111)\n",
    "n_iter = 100\n",
    "energy_list = []\n",
    "for _ in range(n_iter):  \n",
    "    cost_val = []\n",
    "    phi = np.random.random(n_params)\n",
    "    callback(phi)\n",
    "    res = minimize(cost, phi, method='Powell', callback=callback)\n",
    "    energy_list.append(cost(res.x))\n",
    "\n",
    "plt.plot(cost_val)\n",
    "plt.xlabel(\"iteration\")\n",
    "plt.ylabel(\"energy expectation value\")\n",
    "plt.show()\n",
    "\n",
    "print(\"Exact Energy: \", -2.8626207640766816)\n",
    "print(\"VQE Energy: {}\".format(np.mean(energy_list)))"
   ]
  },
  {
   "cell_type": "code",
   "execution_count": null,
   "metadata": {},
   "outputs": [],
   "source": []
  }
 ],
 "metadata": {
  "kernelspec": {
   "display_name": "Python 3",
   "language": "python",
   "name": "python3"
  },
  "language_info": {
   "codemirror_mode": {
    "name": "ipython",
    "version": 3
   },
   "file_extension": ".py",
   "mimetype": "text/x-python",
   "name": "python",
   "nbconvert_exporter": "python",
   "pygments_lexer": "ipython3",
   "version": "3.6.7"
  }
 },
 "nbformat": 4,
 "nbformat_minor": 2
}
